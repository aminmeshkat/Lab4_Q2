{
  "nbformat": 4,
  "nbformat_minor": 0,
  "metadata": {
    "colab": {
      "name": "Lab4_Q2.ipynb",
      "provenance": [],
      "collapsed_sections": []
    },
    "kernelspec": {
      "name": "python3",
      "display_name": "Python 3"
    }
  },
  "cells": [
    {
      "cell_type": "code",
      "metadata": {
        "id": "aLqUGbpNaYXV",
        "colab_type": "code",
        "colab": {
          "base_uri": "https://localhost:8080/",
          "height": 153
        },
        "outputId": "8d0ba97e-9525-4303-fb01-6deddd2aa144"
      },
      "source": [
        "# Q2 part1\n",
        "\n",
        "import os\n",
        "\n",
        "def srch(d):\n",
        "  for item in os.listdir(d):\n",
        "    path = os.path.join(d,item)\n",
        "    if os.path.isfile(path):\n",
        "      if path[-3:] == \"mp3\":\n",
        "        print(path)\n",
        "    else:\n",
        "      srch(path)\n",
        "\n",
        "srch(\"/content\")\n"
      ],
      "execution_count": 45,
      "outputs": [
        {
          "output_type": "stream",
          "text": [
            "/content/dir1/dir2/f4.mp3\n",
            "/content/dir1/dir2/f5.mp3\n",
            "/content/dir1/dir2/dir3/1.mp3\n",
            "/content/dir1/dir2/Behet Ghol Midam.mp3\n",
            "/content/dir1/f1.mp3\n",
            "/content/dir1/f3.mp3\n",
            "/content/dir1/f2.mp3\n",
            "/content/dir1/Behet Ghol Midam.mp3\n"
          ],
          "name": "stdout"
        }
      ]
    },
    {
      "cell_type": "code",
      "metadata": {
        "id": "Cn4Orz23ev4q",
        "colab_type": "code",
        "colab": {
          "base_uri": "https://localhost:8080/",
          "height": 68
        },
        "outputId": "13fb1e75-3844-4e47-c6ea-5164cc8c4202"
      },
      "source": [
        "# Q2 Part 2\n",
        "import hashlib\n",
        "import os\n",
        "\n",
        "def srch(d):\n",
        "  for item in os.listdir(d):\n",
        "    path = os.path.join(d,item)\n",
        "    if os.path.isfile(path):\n",
        "      if path[-3:] == \"mp3\":\n",
        "        print(path , hashlib.md5(open(path,\"rb\").read()))\n",
        "    else:\n",
        "      srch(path)\n",
        "\n",
        "srch(\"/content\")\n",
        "\n"
      ],
      "execution_count": 44,
      "outputs": [
        {
          "output_type": "stream",
          "text": [
            "/content/dir1/dir2/dir3/1.mp3 <md5 HASH object @ 0x7f235f245d28>\n",
            "/content/dir1/dir2/Behet Ghol Midam.mp3 <md5 HASH object @ 0x7f235f245d28>\n",
            "/content/dir1/Behet Ghol Midam.mp3 <md5 HASH object @ 0x7f235f245d28>\n"
          ],
          "name": "stdout"
        }
      ]
    }
  ]
}